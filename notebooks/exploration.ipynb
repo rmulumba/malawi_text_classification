{
 "metadata": {
  "language_info": {
   "codemirror_mode": {
    "name": "ipython",
    "version": 3
   },
   "file_extension": ".py",
   "mimetype": "text/x-python",
   "name": "python",
   "nbconvert_exporter": "python",
   "pygments_lexer": "ipython3",
   "version": 3
  },
  "orig_nbformat": 2
 },
 "nbformat": 4,
 "nbformat_minor": 2,
 "cells": [
  {
   "cell_type": "code",
   "execution_count": null,
   "metadata": {},
   "outputs": [],
   "source": [
    "import pandas as pd \n",
    "import numpy as np \n",
    "import matplotlib.pyplot as plt \n",
    "\n",
    "%matplotlib inline"
   ]
  },
  {
   "cell_type": "code",
   "execution_count": null,
   "metadata": {},
   "outputs": [],
   "source": [
    "train = pd.read_csv(\"../input/Train.csv\")\n",
    "test = pd.read_csv(\"../input/Test.csv\")\n",
    "ss = pd.read_csv(\"../input/SampleSubmission.csv\")\n",
    "\n",
    "print(\"Display the head and tail of the train, test and sample submission files.\\n\")\n",
    "\n",
    "print(\"\\nTrain:\")\n",
    "display(train.head())\n",
    "display(train.tail()\n",
    "\n",
    "print(\"\\nTest:\")\n",
    "display(test.head())\n",
    "display(test.tail())\n",
    "\n",
    "print(\"\\nSample Submission:\")\n",
    "\n",
    "display(ss.head())\n",
    "display(ss.tail())"
   ]
  },
  {
   "cell_type": "code",
   "execution_count": null,
   "metadata": {},
   "outputs": [],
   "source": [
    "sentiments_summary = train['Label'].value_counts(normalize=True)\n",
    "sentiments_summary"
   ]
  },
  {
   "cell_type": "code",
   "execution_count": null,
   "metadata": {},
   "outputs": [],
   "source": [
    "import re \n",
    "\n",
    "def process_sentence(words):\n",
    "    words = words.lower()\n",
    "    words = re.sub(r'[\" \"]+', \" \", words)\n",
    "    words = re.sub(r\"[^a-zA-Z]+\", \" \", words)\n",
    "\n",
    "    words = words.strip()\n",
    "\n",
    "    return words\n"
   ]
  },
  {
   "cell_type": "code",
   "execution_count": null,
   "metadata": {},
   "outputs": [],
   "source": [
    "train[\"Text\"] = train[\"Text\"].apply(process_sentence)\n",
    "train.Text.values"
   ]
  },
  {
   "cell_type": "code",
   "execution_count": null,
   "metadata": {},
   "outputs": [],
   "source": []
  }
 ]
}